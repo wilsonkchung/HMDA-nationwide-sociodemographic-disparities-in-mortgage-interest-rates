{
 "cells": [
  {
   "cell_type": "markdown",
   "id": "49f0668b",
   "metadata": {},
   "source": [
    "# SUMMARY:\n",
    "\n",
    "* Used FFIEC HMDA API to download datasets from 2022 to 2024.\n",
    "\n",
    "* Assured data consistency, then combined/concatenated the datasets into one.\n",
    "    - Raw data combined: 39,892,783 rows\n",
    "\n",
    "* Selected records needed using 'loan_purpose' feature.\n",
    "    - Data kept:\n",
    "        - 'loan_purpose' = 1: home purchase\n",
    "    - Data removed: (removal count: 18,858,918)\n",
    "        - 'loan_purpose' = 2: home improvement\n",
    "        - 'loan_purpose' = 31: refinancing\n",
    "        - 'loan_purpose' = 32: cash-out refinancing\n",
    "        - 'loan_purpose' = 4: Other purpose\n",
    "        - 'loan_purpose' = 5: Not applicable\n",
    "\n",
    "* Grouped records into approved or denied outcome using 'action_taken' feature:\n",
    "    - Label 1/Approved: \n",
    "        - 'action_taken'=[\n",
    "            - 1: Loan Originated, \n",
    "            - 2: Application approved but not accepted, \n",
    "            - 8: Preapproval request approved but not accepted\n",
    "        ]\n",
    "    - Label 0/Denied: \n",
    "        - 'action_taken' = [\n",
    "            - 3: Application denied,\n",
    "            - 7: Preapproval request denied\n",
    "        ]\n",
    "    - Data removed: (removal count: 6,552,226)\n",
    "        - 'action_taken' = [\n",
    "            - 4: Application withdrawn by applicant,\n",
    "            - 5: File closed for incompleteness,\n",
    "            - 6: Purchased loan (from another institution/secondary market)\n",
    "        ]\n",
    "\n",
    "* Result:\n",
    "    - Raw data (data) size: 39,892,783 rows x 99 columns (size: 15.09 GB, memory usage: 29.4+ GB)\n",
    "    - Total rows removed: 18,858,918 + 6,552,226 = 25,411,144 rows\n",
    "    - Final data (df) size: 14,481,639 rows x 99 columns (size: 5.58 GB, memory usage: 10.7+ GB)\n",
    "\n",
    "* Next Step:\n",
    "    - Final data (df) is written to csv file \"df_trimmed.csv\" in Step 2 Folder\n",
    "\n",
    "<br>\n",
    "\n",
    "<hr>\n",
    "<hr>"
   ]
  },
  {
   "cell_type": "code",
   "execution_count": 2,
   "id": "278c0b16",
   "metadata": {},
   "outputs": [],
   "source": [
    "import requests\n",
    "from io import StringIO\n",
    "import pandas as pd\n"
   ]
  },
  {
   "cell_type": "code",
   "execution_count": 3,
   "id": "4ec651cf",
   "metadata": {},
   "outputs": [],
   "source": [
    "headers = {\"User-Agent\": \"Mozilla/5.0\"}\n",
    "\n",
    "url_2022 = \"https://ffiec.cfpb.gov/v2/data-browser-api/view/nationwide/csv?years=2022&loan_purpose=1\"\n",
    "url_2023 = \"https://ffiec.cfpb.gov/v2/data-browser-api/view/nationwide/csv?years=2023&loan_purpose=1\"\n",
    "url_2024 = \"https://ffiec.cfpb.gov/v2/data-browser-api/view/nationwide/csv?years=2024&loan_purpose=1\""
   ]
  },
  {
   "cell_type": "code",
   "execution_count": 5,
   "id": "0124525c",
   "metadata": {},
   "outputs": [
    {
     "name": "stderr",
     "output_type": "stream",
     "text": [
      "/var/folders/v5/853tm03d4ds4l0z_4qjrndh40000gn/T/ipykernel_68373/1161859129.py:3: DtypeWarning: Columns (3,22,23,24,26,27,28,29,30,31,32,33,38,43,44,46,77,78,79,80) have mixed types. Specify dtype option on import or set low_memory=False.\n",
      "  data_2022 = pd.read_csv(StringIO(response_2022.text))\n"
     ]
    }
   ],
   "source": [
    "# Warning: estimate run time ~ 4-5 minutes\n",
    "response_2022 = requests.get(url_2022, headers=headers)\n",
    "data_2022 = pd.read_csv(StringIO(response_2022.text))"
   ]
  },
  {
   "cell_type": "code",
   "execution_count": 6,
   "id": "7807d32c",
   "metadata": {},
   "outputs": [
    {
     "name": "stderr",
     "output_type": "stream",
     "text": [
      "/var/folders/v5/853tm03d4ds4l0z_4qjrndh40000gn/T/ipykernel_68373/4058700906.py:3: DtypeWarning: Columns (5,22,23,24,26,27,28,29,30,31,32,33,38,43,44,46,77,78,79,80) have mixed types. Specify dtype option on import or set low_memory=False.\n",
      "  data_2023 = pd.read_csv(StringIO(response_2023.text))\n"
     ]
    }
   ],
   "source": [
    "# Warning: estimate run time ~ 4-5 minutes\n",
    "response_2023 = requests.get(url_2023, headers=headers)\n",
    "data_2023 = pd.read_csv(StringIO(response_2023.text))"
   ]
  },
  {
   "cell_type": "code",
   "execution_count": 7,
   "id": "e2f383bf",
   "metadata": {},
   "outputs": [
    {
     "name": "stderr",
     "output_type": "stream",
     "text": [
      "/var/folders/v5/853tm03d4ds4l0z_4qjrndh40000gn/T/ipykernel_68373/2677715087.py:3: DtypeWarning: Columns (5,22,23,24,26,27,28,29,30,31,32,33,38,43,44,46,77,78,79,80) have mixed types. Specify dtype option on import or set low_memory=False.\n",
      "  data_2024 = pd.read_csv(StringIO(response_2024.text))\n"
     ]
    }
   ],
   "source": [
    "# Warning: estimate run time ~ 4-5 minutes\n",
    "response_2024 = requests.get(url_2024, headers=headers)\n",
    "data_2024 = pd.read_csv(StringIO(response_2024.text))"
   ]
  },
  {
   "cell_type": "code",
   "execution_count": 8,
   "id": "9380463f",
   "metadata": {},
   "outputs": [
    {
     "name": "stdout",
     "output_type": "stream",
     "text": [
      "(16099307, 99)\n",
      "(11564178, 99)\n",
      "(12229298, 99)\n"
     ]
    }
   ],
   "source": [
    "print(data_2022.shape)\n",
    "print(data_2023.shape)\n",
    "print(data_2024.shape)"
   ]
  },
  {
   "cell_type": "code",
   "execution_count": 9,
   "id": "f7328c6a",
   "metadata": {},
   "outputs": [
    {
     "name": "stdout",
     "output_type": "stream",
     "text": [
      "Columns match across all years.\n"
     ]
    }
   ],
   "source": [
    "if data_2022.columns.equals(data_2023.columns) and data_2022.columns.equals(data_2024.columns):\n",
    "    print(\"Columns match across all years.\")\n",
    "else:\n",
    "    print(\"Column mismatch detected!\")"
   ]
  },
  {
   "cell_type": "code",
   "execution_count": 10,
   "id": "c7cfd04a",
   "metadata": {},
   "outputs": [
    {
     "data": {
      "text/plain": [
       "(39892783, 99)"
      ]
     },
     "execution_count": 10,
     "metadata": {},
     "output_type": "execute_result"
    }
   ],
   "source": [
    "data = pd.concat([data_2022, data_2023, data_2024], ignore_index=True)\n",
    "data.shape"
   ]
  },
  {
   "cell_type": "code",
   "execution_count": 11,
   "id": "08347611",
   "metadata": {},
   "outputs": [
    {
     "data": {
      "text/plain": [
       "(39892783, 99)"
      ]
     },
     "execution_count": 11,
     "metadata": {},
     "output_type": "execute_result"
    }
   ],
   "source": [
    "data.shape"
   ]
  },
  {
   "cell_type": "code",
   "execution_count": 12,
   "id": "24a705d5",
   "metadata": {},
   "outputs": [
    {
     "name": "stdout",
     "output_type": "stream",
     "text": [
      "<class 'pandas.core.frame.DataFrame'>\n",
      "RangeIndex: 39892783 entries, 0 to 39892782\n",
      "Data columns (total 99 columns):\n",
      " #   Column                                    Dtype  \n",
      "---  ------                                    -----  \n",
      " 0   activity_year                             int64  \n",
      " 1   lei                                       object \n",
      " 2   derived_msa-md                            int64  \n",
      " 3   state_code                                object \n",
      " 4   county_code                               float64\n",
      " 5   census_tract                              object \n",
      " 6   conforming_loan_limit                     object \n",
      " 7   derived_loan_product_type                 object \n",
      " 8   derived_dwelling_category                 object \n",
      " 9   derived_ethnicity                         object \n",
      " 10  derived_race                              object \n",
      " 11  derived_sex                               object \n",
      " 12  action_taken                              int64  \n",
      " 13  purchaser_type                            int64  \n",
      " 14  preapproval                               int64  \n",
      " 15  loan_type                                 int64  \n",
      " 16  loan_purpose                              int64  \n",
      " 17  lien_status                               int64  \n",
      " 18  reverse_mortgage                          int64  \n",
      " 19  open-end_line_of_credit                   int64  \n",
      " 20  business_or_commercial_purpose            int64  \n",
      " 21  loan_amount                               float64\n",
      " 22  loan_to_value_ratio                       object \n",
      " 23  interest_rate                             object \n",
      " 24  rate_spread                               object \n",
      " 25  hoepa_status                              int64  \n",
      " 26  total_loan_costs                          object \n",
      " 27  total_points_and_fees                     object \n",
      " 28  origination_charges                       object \n",
      " 29  discount_points                           object \n",
      " 30  lender_credits                            object \n",
      " 31  loan_term                                 object \n",
      " 32  prepayment_penalty_term                   object \n",
      " 33  intro_rate_period                         object \n",
      " 34  negative_amortization                     int64  \n",
      " 35  interest_only_payment                     int64  \n",
      " 36  balloon_payment                           int64  \n",
      " 37  other_nonamortizing_features              int64  \n",
      " 38  property_value                            object \n",
      " 39  construction_method                       int64  \n",
      " 40  occupancy_type                            int64  \n",
      " 41  manufactured_home_secured_property_type   int64  \n",
      " 42  manufactured_home_land_property_interest  int64  \n",
      " 43  total_units                               object \n",
      " 44  multifamily_affordable_units              object \n",
      " 45  income                                    float64\n",
      " 46  debt_to_income_ratio                      object \n",
      " 47  applicant_credit_score_type               int64  \n",
      " 48  co-applicant_credit_score_type            int64  \n",
      " 49  applicant_ethnicity-1                     float64\n",
      " 50  applicant_ethnicity-2                     float64\n",
      " 51  applicant_ethnicity-3                     float64\n",
      " 52  applicant_ethnicity-4                     float64\n",
      " 53  applicant_ethnicity-5                     float64\n",
      " 54  co-applicant_ethnicity-1                  float64\n",
      " 55  co-applicant_ethnicity-2                  float64\n",
      " 56  co-applicant_ethnicity-3                  float64\n",
      " 57  co-applicant_ethnicity-4                  float64\n",
      " 58  co-applicant_ethnicity-5                  float64\n",
      " 59  applicant_ethnicity_observed              int64  \n",
      " 60  co-applicant_ethnicity_observed           int64  \n",
      " 61  applicant_race-1                          float64\n",
      " 62  applicant_race-2                          float64\n",
      " 63  applicant_race-3                          float64\n",
      " 64  applicant_race-4                          float64\n",
      " 65  applicant_race-5                          float64\n",
      " 66  co-applicant_race-1                       float64\n",
      " 67  co-applicant_race-2                       float64\n",
      " 68  co-applicant_race-3                       float64\n",
      " 69  co-applicant_race-4                       float64\n",
      " 70  co-applicant_race-5                       float64\n",
      " 71  applicant_race_observed                   int64  \n",
      " 72  co-applicant_race_observed                int64  \n",
      " 73  applicant_sex                             int64  \n",
      " 74  co-applicant_sex                          int64  \n",
      " 75  applicant_sex_observed                    int64  \n",
      " 76  co-applicant_sex_observed                 int64  \n",
      " 77  applicant_age                             object \n",
      " 78  co-applicant_age                          object \n",
      " 79  applicant_age_above_62                    object \n",
      " 80  co-applicant_age_above_62                 object \n",
      " 81  submission_of_application                 int64  \n",
      " 82  initially_payable_to_institution          int64  \n",
      " 83  aus-1                                     int64  \n",
      " 84  aus-2                                     float64\n",
      " 85  aus-3                                     float64\n",
      " 86  aus-4                                     float64\n",
      " 87  aus-5                                     float64\n",
      " 88  denial_reason-1                           int64  \n",
      " 89  denial_reason-2                           float64\n",
      " 90  denial_reason-3                           float64\n",
      " 91  denial_reason-4                           float64\n",
      " 92  tract_population                          int64  \n",
      " 93  tract_minority_population_percent         float64\n",
      " 94  ffiec_msa_md_median_family_income         int64  \n",
      " 95  tract_to_msa_income_percentage            float64\n",
      " 96  tract_owner_occupied_units                int64  \n",
      " 97  tract_one_to_four_family_homes            int64  \n",
      " 98  tract_median_age_of_housing_units         int64  \n",
      "dtypes: float64(32), int64(39), object(28)\n",
      "memory usage: 29.4+ GB\n"
     ]
    }
   ],
   "source": [
    "data.info()"
   ]
  },
  {
   "cell_type": "code",
   "execution_count": 13,
   "id": "779175e3",
   "metadata": {},
   "outputs": [
    {
     "data": {
      "text/plain": [
       "loan_purpose\n",
       "1     21033865\n",
       "32     6526426\n",
       "31     4228661\n",
       "4      4014477\n",
       "2      3941155\n",
       "5       148199\n",
       "Name: count, dtype: int64"
      ]
     },
     "execution_count": 13,
     "metadata": {},
     "output_type": "execute_result"
    }
   ],
   "source": [
    "data['loan_purpose'].value_counts()"
   ]
  },
  {
   "cell_type": "markdown",
   "id": "09a0a9a9",
   "metadata": {},
   "source": [
    "- 1 - Home purchase\n",
    "- 2 - Home improvement\n",
    "- 31 - Refinancing\n",
    "- 32 - Cash-out refinancing\n",
    "- 4 - Other purpose\n",
    "- 5 - Not applicable"
   ]
  },
  {
   "cell_type": "code",
   "execution_count": 14,
   "id": "981c3ff4",
   "metadata": {},
   "outputs": [],
   "source": [
    "data_homePurchase = data[data[\"loan_purpose\"] == 1]"
   ]
  },
  {
   "cell_type": "code",
   "execution_count": 32,
   "id": "fbbaacc1",
   "metadata": {},
   "outputs": [
    {
     "name": "stdout",
     "output_type": "stream",
     "text": [
      "Rows removed: 18,858,918\n"
     ]
    }
   ],
   "source": [
    "row_removed_A = data.shape[0] - data_homePurchase.shape[0]\n",
    "print(f\"Rows removed: {row_removed_A:,}\")"
   ]
  },
  {
   "cell_type": "code",
   "execution_count": 33,
   "id": "8f1042cc",
   "metadata": {},
   "outputs": [
    {
     "data": {
      "text/plain": [
       "(21033865, 99)"
      ]
     },
     "execution_count": 33,
     "metadata": {},
     "output_type": "execute_result"
    }
   ],
   "source": [
    "data_homePurchase.shape"
   ]
  },
  {
   "cell_type": "markdown",
   "id": "a5039c0a",
   "metadata": {},
   "source": []
  },
  {
   "cell_type": "code",
   "execution_count": 17,
   "id": "b699a285",
   "metadata": {},
   "outputs": [
    {
     "data": {
      "text/plain": [
       "<Axes: xlabel='action_taken'>"
      ]
     },
     "execution_count": 17,
     "metadata": {},
     "output_type": "execute_result"
    },
    {
     "data": {
      "image/png": "[encoded data removed]",
      "text/plain": [
       "<Figure size 640x480 with 1 Axes>"
      ]
     },
     "metadata": {},
     "output_type": "display_data"
    }
   ],
   "source": [
    "data_homePurchase['action_taken'].value_counts().plot(kind='bar')"
   ]
  },
  {
   "cell_type": "markdown",
   "id": "5e7f40e5",
   "metadata": {},
   "source": [
    "**Values:**\n",
    "- 1: Loan originated\n",
    "- 2: Application approved but not accepted\n",
    "- 3: Application denied\n",
    "- 4: Application withdrawn by applicant\n",
    "- 5: File closed for incompleteness\n",
    "- 6: Purchased loan\n",
    "- 7: Preapproval request denied\n",
    "- 8: Preapproval request approved but not accepted\n",
    "\n",
    "**Values will be grouped as:**\n",
    "- 1,2,8: Approved\n",
    "- 3,7: Denied\n",
    "\n",
    "**Values to be removed:**\n",
    "- 4, 5, 6"
   ]
  },
  {
   "cell_type": "code",
   "execution_count": 19,
   "id": "9a7f6a4c",
   "metadata": {},
   "outputs": [],
   "source": [
    "approved_data_homePurchase = data_homePurchase[(data_homePurchase['action_taken'] == 1) | (data_homePurchase['action_taken'] == 2) | (data_homePurchase['action_taken'] == 8)]\n",
    "denied_data_homePurchase = data_homePurchase[(data_homePurchase['action_taken'] == 3) | (data_homePurchase['action_taken'] == 7)]"
   ]
  },
  {
   "cell_type": "code",
   "execution_count": 20,
   "id": "c673ff94",
   "metadata": {},
   "outputs": [
    {
     "name": "stdout",
     "output_type": "stream",
     "text": [
      "(12323579, 99)\n",
      "(2158060, 99)\n"
     ]
    }
   ],
   "source": [
    "print(approved_data_homePurchase.shape)\n",
    "print(denied_data_homePurchase.shape)"
   ]
  },
  {
   "cell_type": "code",
   "execution_count": 23,
   "id": "d29c7408",
   "metadata": {},
   "outputs": [
    {
     "name": "stdout",
     "output_type": "stream",
     "text": [
      "(14481639, 99)\n",
      "14481639\n"
     ]
    }
   ],
   "source": [
    "df = pd.concat([approved_data_homePurchase, denied_data_homePurchase], ignore_index=True)\n",
    "print(df.shape)\n",
    "# verify\n",
    "print(approved_data_homePurchase.shape[0] + denied_data_homePurchase.shape[0])"
   ]
  },
  {
   "cell_type": "code",
   "execution_count": 31,
   "id": "ca68951d",
   "metadata": {},
   "outputs": [
    {
     "name": "stdout",
     "output_type": "stream",
     "text": [
      "Rows removed: 6,552,226\n"
     ]
    }
   ],
   "source": [
    "# Amout of rows removed because of application incompleteness, withdrawal, or other reasons\n",
    "row_removed_B = data_homePurchase.shape[0] - df.shape[0]\n",
    "print(f\"Rows removed: {row_removed_B:,}\")"
   ]
  },
  {
   "cell_type": "code",
   "execution_count": 34,
   "id": "e108d203",
   "metadata": {},
   "outputs": [
    {
     "name": "stdout",
     "output_type": "stream",
     "text": [
      "Total rows removed: 25411144\n"
     ]
    }
   ],
   "source": [
    "print(f\"Total rows removed: {row_removed_A + row_removed_B:}\")"
   ]
  },
  {
   "cell_type": "code",
   "execution_count": 26,
   "id": "c5f7d251",
   "metadata": {},
   "outputs": [
    {
     "data": {
      "text/html": [
       "<div>\n",
       "<style scoped>\n",
       "    .dataframe tbody tr th:only-of-type {\n",
       "        vertical-align: middle;\n",
       "    }\n",
       "\n",
       "    .dataframe tbody tr th {\n",
       "        vertical-align: top;\n",
       "    }\n",
       "\n",
       "    .dataframe thead th {\n",
       "        text-align: right;\n",
       "    }\n",
       "</style>\n",
       "<table border=\"1\" class=\"dataframe\">\n",
       "  <thead>\n",
       "    <tr style=\"text-align: right;\">\n",
       "      <th></th>\n",
       "      <th>activity_year</th>\n",
       "      <th>lei</th>\n",
       "      <th>derived_msa-md</th>\n",
       "      <th>state_code</th>\n",
       "      <th>county_code</th>\n",
       "      <th>census_tract</th>\n",
       "      <th>conforming_loan_limit</th>\n",
       "      <th>derived_loan_product_type</th>\n",
       "      <th>derived_dwelling_category</th>\n",
       "      <th>derived_ethnicity</th>\n",
       "      <th>...</th>\n",
       "      <th>denial_reason-2</th>\n",
       "      <th>denial_reason-3</th>\n",
       "      <th>denial_reason-4</th>\n",
       "      <th>tract_population</th>\n",
       "      <th>tract_minority_population_percent</th>\n",
       "      <th>ffiec_msa_md_median_family_income</th>\n",
       "      <th>tract_to_msa_income_percentage</th>\n",
       "      <th>tract_owner_occupied_units</th>\n",
       "      <th>tract_one_to_four_family_homes</th>\n",
       "      <th>tract_median_age_of_housing_units</th>\n",
       "    </tr>\n",
       "  </thead>\n",
       "  <tbody>\n",
       "    <tr>\n",
       "      <th>0</th>\n",
       "      <td>2022</td>\n",
       "      <td>254900ACUWEGW702BR80</td>\n",
       "      <td>35614</td>\n",
       "      <td>NY</td>\n",
       "      <td>36061.0</td>\n",
       "      <td>36061016002.0</td>\n",
       "      <td>C</td>\n",
       "      <td>Conventional:First Lien</td>\n",
       "      <td>Single Family (1-4 Units):Site-Built</td>\n",
       "      <td>Not Hispanic or Latino</td>\n",
       "      <td>...</td>\n",
       "      <td>NaN</td>\n",
       "      <td>NaN</td>\n",
       "      <td>NaN</td>\n",
       "      <td>3607</td>\n",
       "      <td>36.57</td>\n",
       "      <td>99000</td>\n",
       "      <td>152.12</td>\n",
       "      <td>440</td>\n",
       "      <td>55</td>\n",
       "      <td>0</td>\n",
       "    </tr>\n",
       "    <tr>\n",
       "      <th>1</th>\n",
       "      <td>2022</td>\n",
       "      <td>254900ACUWEGW702BR80</td>\n",
       "      <td>35614</td>\n",
       "      <td>NY</td>\n",
       "      <td>36081.0</td>\n",
       "      <td>36081071100.0</td>\n",
       "      <td>C</td>\n",
       "      <td>Conventional:First Lien</td>\n",
       "      <td>Single Family (1-4 Units):Site-Built</td>\n",
       "      <td>Not Hispanic or Latino</td>\n",
       "      <td>...</td>\n",
       "      <td>NaN</td>\n",
       "      <td>NaN</td>\n",
       "      <td>NaN</td>\n",
       "      <td>5687</td>\n",
       "      <td>55.57</td>\n",
       "      <td>99000</td>\n",
       "      <td>132.73</td>\n",
       "      <td>1769</td>\n",
       "      <td>597</td>\n",
       "      <td>65</td>\n",
       "    </tr>\n",
       "    <tr>\n",
       "      <th>2</th>\n",
       "      <td>2022</td>\n",
       "      <td>254900ACUWEGW702BR80</td>\n",
       "      <td>35154</td>\n",
       "      <td>NJ</td>\n",
       "      <td>34025.0</td>\n",
       "      <td>34025806400.0</td>\n",
       "      <td>C</td>\n",
       "      <td>Conventional:First Lien</td>\n",
       "      <td>Single Family (1-4 Units):Site-Built</td>\n",
       "      <td>Not Hispanic or Latino</td>\n",
       "      <td>...</td>\n",
       "      <td>NaN</td>\n",
       "      <td>NaN</td>\n",
       "      <td>NaN</td>\n",
       "      <td>5135</td>\n",
       "      <td>19.57</td>\n",
       "      <td>128300</td>\n",
       "      <td>102.28</td>\n",
       "      <td>1416</td>\n",
       "      <td>1679</td>\n",
       "      <td>53</td>\n",
       "    </tr>\n",
       "    <tr>\n",
       "      <th>3</th>\n",
       "      <td>2022</td>\n",
       "      <td>254900ACUWEGW702BR80</td>\n",
       "      <td>35154</td>\n",
       "      <td>NJ</td>\n",
       "      <td>34029.0</td>\n",
       "      <td>34029715501.0</td>\n",
       "      <td>C</td>\n",
       "      <td>Conventional:First Lien</td>\n",
       "      <td>Single Family (1-4 Units):Site-Built</td>\n",
       "      <td>Not Hispanic or Latino</td>\n",
       "      <td>...</td>\n",
       "      <td>NaN</td>\n",
       "      <td>NaN</td>\n",
       "      <td>NaN</td>\n",
       "      <td>4939</td>\n",
       "      <td>7.90</td>\n",
       "      <td>128300</td>\n",
       "      <td>62.91</td>\n",
       "      <td>685</td>\n",
       "      <td>997</td>\n",
       "      <td>40</td>\n",
       "    </tr>\n",
       "    <tr>\n",
       "      <th>4</th>\n",
       "      <td>2022</td>\n",
       "      <td>254900ACUWEGW702BR80</td>\n",
       "      <td>35004</td>\n",
       "      <td>NY</td>\n",
       "      <td>36059.0</td>\n",
       "      <td>36059411000.0</td>\n",
       "      <td>C</td>\n",
       "      <td>Conventional:First Lien</td>\n",
       "      <td>Single Family (1-4 Units):Site-Built</td>\n",
       "      <td>Not Hispanic or Latino</td>\n",
       "      <td>...</td>\n",
       "      <td>NaN</td>\n",
       "      <td>NaN</td>\n",
       "      <td>NaN</td>\n",
       "      <td>6132</td>\n",
       "      <td>68.15</td>\n",
       "      <td>146400</td>\n",
       "      <td>63.34</td>\n",
       "      <td>1073</td>\n",
       "      <td>1708</td>\n",
       "      <td>69</td>\n",
       "    </tr>\n",
       "  </tbody>\n",
       "</table>\n",
       "<p>5 rows × 99 columns</p>\n",
       "</div>"
      ],
      "text/plain": [
       "   activity_year                   lei  derived_msa-md state_code  \\\n",
       "0           2022  254900ACUWEGW702BR80           35614         NY   \n",
       "1           2022  254900ACUWEGW702BR80           35614         NY   \n",
       "2           2022  254900ACUWEGW702BR80           35154         NJ   \n",
       "3           2022  254900ACUWEGW702BR80           35154         NJ   \n",
       "4           2022  254900ACUWEGW702BR80           35004         NY   \n",
       "\n",
       "   county_code   census_tract conforming_loan_limit derived_loan_product_type  \\\n",
       "0      36061.0  36061016002.0                     C   Conventional:First Lien   \n",
       "1      36081.0  36081071100.0                     C   Conventional:First Lien   \n",
       "2      34025.0  34025806400.0                     C   Conventional:First Lien   \n",
       "3      34029.0  34029715501.0                     C   Conventional:First Lien   \n",
       "4      36059.0  36059411000.0                     C   Conventional:First Lien   \n",
       "\n",
       "              derived_dwelling_category       derived_ethnicity  ...  \\\n",
       "0  Single Family (1-4 Units):Site-Built  Not Hispanic or Latino  ...   \n",
       "1  Single Family (1-4 Units):Site-Built  Not Hispanic or Latino  ...   \n",
       "2  Single Family (1-4 Units):Site-Built  Not Hispanic or Latino  ...   \n",
       "3  Single Family (1-4 Units):Site-Built  Not Hispanic or Latino  ...   \n",
       "4  Single Family (1-4 Units):Site-Built  Not Hispanic or Latino  ...   \n",
       "\n",
       "  denial_reason-2 denial_reason-3  denial_reason-4  tract_population  \\\n",
       "0             NaN             NaN              NaN              3607   \n",
       "1             NaN             NaN              NaN              5687   \n",
       "2             NaN             NaN              NaN              5135   \n",
       "3             NaN             NaN              NaN              4939   \n",
       "4             NaN             NaN              NaN              6132   \n",
       "\n",
       "   tract_minority_population_percent  ffiec_msa_md_median_family_income  \\\n",
       "0                              36.57                              99000   \n",
       "1                              55.57                              99000   \n",
       "2                              19.57                             128300   \n",
       "3                               7.90                             128300   \n",
       "4                              68.15                             146400   \n",
       "\n",
       "   tract_to_msa_income_percentage  tract_owner_occupied_units  \\\n",
       "0                          152.12                         440   \n",
       "1                          132.73                        1769   \n",
       "2                          102.28                        1416   \n",
       "3                           62.91                         685   \n",
       "4                           63.34                        1073   \n",
       "\n",
       "   tract_one_to_four_family_homes  tract_median_age_of_housing_units  \n",
       "0                              55                                  0  \n",
       "1                             597                                 65  \n",
       "2                            1679                                 53  \n",
       "3                             997                                 40  \n",
       "4                            1708                                 69  \n",
       "\n",
       "[5 rows x 99 columns]"
      ]
     },
     "execution_count": 26,
     "metadata": {},
     "output_type": "execute_result"
    }
   ],
   "source": [
    "df.head()"
   ]
  },
  {
   "cell_type": "code",
   "execution_count": 27,
   "id": "f74bb555",
   "metadata": {},
   "outputs": [
    {
     "data": {
      "text/plain": [
       "(14481639, 99)"
      ]
     },
     "execution_count": 27,
     "metadata": {},
     "output_type": "execute_result"
    }
   ],
   "source": [
    "df.shape"
   ]
  },
  {
   "cell_type": "code",
   "execution_count": 30,
   "id": "a5d37556",
   "metadata": {},
   "outputs": [
    {
     "name": "stdout",
     "output_type": "stream",
     "text": [
      "<class 'pandas.core.frame.DataFrame'>\n",
      "RangeIndex: 14481639 entries, 0 to 14481638\n",
      "Data columns (total 99 columns):\n",
      " #   Column                                    Dtype  \n",
      "---  ------                                    -----  \n",
      " 0   activity_year                             int64  \n",
      " 1   lei                                       object \n",
      " 2   derived_msa-md                            int64  \n",
      " 3   state_code                                object \n",
      " 4   county_code                               float64\n",
      " 5   census_tract                              object \n",
      " 6   conforming_loan_limit                     object \n",
      " 7   derived_loan_product_type                 object \n",
      " 8   derived_dwelling_category                 object \n",
      " 9   derived_ethnicity                         object \n",
      " 10  derived_race                              object \n",
      " 11  derived_sex                               object \n",
      " 12  action_taken                              int64  \n",
      " 13  purchaser_type                            int64  \n",
      " 14  preapproval                               int64  \n",
      " 15  loan_type                                 int64  \n",
      " 16  loan_purpose                              int64  \n",
      " 17  lien_status                               int64  \n",
      " 18  reverse_mortgage                          int64  \n",
      " 19  open-end_line_of_credit                   int64  \n",
      " 20  business_or_commercial_purpose            int64  \n",
      " 21  loan_amount                               float64\n",
      " 22  loan_to_value_ratio                       object \n",
      " 23  interest_rate                             object \n",
      " 24  rate_spread                               object \n",
      " 25  hoepa_status                              int64  \n",
      " 26  total_loan_costs                          object \n",
      " 27  total_points_and_fees                     object \n",
      " 28  origination_charges                       object \n",
      " 29  discount_points                           object \n",
      " 30  lender_credits                            object \n",
      " 31  loan_term                                 object \n",
      " 32  prepayment_penalty_term                   object \n",
      " 33  intro_rate_period                         object \n",
      " 34  negative_amortization                     int64  \n",
      " 35  interest_only_payment                     int64  \n",
      " 36  balloon_payment                           int64  \n",
      " 37  other_nonamortizing_features              int64  \n",
      " 38  property_value                            object \n",
      " 39  construction_method                       int64  \n",
      " 40  occupancy_type                            int64  \n",
      " 41  manufactured_home_secured_property_type   int64  \n",
      " 42  manufactured_home_land_property_interest  int64  \n",
      " 43  total_units                               object \n",
      " 44  multifamily_affordable_units              object \n",
      " 45  income                                    float64\n",
      " 46  debt_to_income_ratio                      object \n",
      " 47  applicant_credit_score_type               int64  \n",
      " 48  co-applicant_credit_score_type            int64  \n",
      " 49  applicant_ethnicity-1                     float64\n",
      " 50  applicant_ethnicity-2                     float64\n",
      " 51  applicant_ethnicity-3                     float64\n",
      " 52  applicant_ethnicity-4                     float64\n",
      " 53  applicant_ethnicity-5                     float64\n",
      " 54  co-applicant_ethnicity-1                  float64\n",
      " 55  co-applicant_ethnicity-2                  float64\n",
      " 56  co-applicant_ethnicity-3                  float64\n",
      " 57  co-applicant_ethnicity-4                  float64\n",
      " 58  co-applicant_ethnicity-5                  float64\n",
      " 59  applicant_ethnicity_observed              int64  \n",
      " 60  co-applicant_ethnicity_observed           int64  \n",
      " 61  applicant_race-1                          float64\n",
      " 62  applicant_race-2                          float64\n",
      " 63  applicant_race-3                          float64\n",
      " 64  applicant_race-4                          float64\n",
      " 65  applicant_race-5                          float64\n",
      " 66  co-applicant_race-1                       float64\n",
      " 67  co-applicant_race-2                       float64\n",
      " 68  co-applicant_race-3                       float64\n",
      " 69  co-applicant_race-4                       float64\n",
      " 70  co-applicant_race-5                       float64\n",
      " 71  applicant_race_observed                   int64  \n",
      " 72  co-applicant_race_observed                int64  \n",
      " 73  applicant_sex                             int64  \n",
      " 74  co-applicant_sex                          int64  \n",
      " 75  applicant_sex_observed                    int64  \n",
      " 76  co-applicant_sex_observed                 int64  \n",
      " 77  applicant_age                             object \n",
      " 78  co-applicant_age                          object \n",
      " 79  applicant_age_above_62                    object \n",
      " 80  co-applicant_age_above_62                 object \n",
      " 81  submission_of_application                 int64  \n",
      " 82  initially_payable_to_institution          int64  \n",
      " 83  aus-1                                     int64  \n",
      " 84  aus-2                                     float64\n",
      " 85  aus-3                                     float64\n",
      " 86  aus-4                                     float64\n",
      " 87  aus-5                                     float64\n",
      " 88  denial_reason-1                           int64  \n",
      " 89  denial_reason-2                           float64\n",
      " 90  denial_reason-3                           float64\n",
      " 91  denial_reason-4                           float64\n",
      " 92  tract_population                          int64  \n",
      " 93  tract_minority_population_percent         float64\n",
      " 94  ffiec_msa_md_median_family_income         int64  \n",
      " 95  tract_to_msa_income_percentage            float64\n",
      " 96  tract_owner_occupied_units                int64  \n",
      " 97  tract_one_to_four_family_homes            int64  \n",
      " 98  tract_median_age_of_housing_units         int64  \n",
      "dtypes: float64(32), int64(39), object(28)\n",
      "memory usage: 10.7+ GB\n"
     ]
    }
   ],
   "source": [
    "df.info()"
   ]
  },
  {
   "cell_type": "markdown",
   "id": "2607f424",
   "metadata": {},
   "source": [
    "# Result:\n",
    "\n",
    "* Write the result data (df) to 'df_trimmed.csv' in Step 2 Folder ready for EDA"
   ]
  },
  {
   "cell_type": "code",
   "execution_count": 35,
   "id": "237720c7",
   "metadata": {},
   "outputs": [],
   "source": [
    "df.to_csv('../Step 2/df_trimmed.csv', index=False)"
   ]
  }
 ],
 "metadata": {
  "kernelspec": {
   "display_name": ".venv",
   "language": "python",
   "name": "python3"
  },
  "language_info": {
   "codemirror_mode": {
    "name": "ipython",
    "version": 3
   },
   "file_extension": ".py",
   "mimetype": "text/x-python",
   "name": "python",
   "nbconvert_exporter": "python",
   "pygments_lexer": "ipython3",
   "version": "3.13.7"
  }
 },
 "nbformat": 4,
 "nbformat_minor": 5
}
