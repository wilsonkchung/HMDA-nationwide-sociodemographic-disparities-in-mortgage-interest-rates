{
 "cells": [
  {
   "cell_type": "markdown",
   "id": "34e1fc0a",
   "metadata": {},
   "source": [
    "# README\n",
    "\n",
    "* Please unzip file \"df_trimmed.csv.zip\" first before reading the file using pandas!\n",
    "\n",
    "* Reason: the file size is 5.58 GB, it cannot be pushed to GitHub Repository even with GitHub Large File Storage (limit 5.0 GB)\n",
    "\n",
    "* Note: 'df_trimmed.csv' is included in .gitignore to prevent the file being pushed in the future."
   ]
  },
  {
   "cell_type": "markdown",
   "id": "e084afca",
   "metadata": {},
   "source": []
  },
  {
   "cell_type": "code",
   "execution_count": 2,
   "id": "7d2d8783",
   "metadata": {},
   "outputs": [],
   "source": [
    "import pandas as pd"
   ]
  },
  {
   "cell_type": "code",
   "execution_count": null,
   "id": "4f2cabe1",
   "metadata": {},
   "outputs": [
    {
     "name": "stderr",
     "output_type": "stream",
     "text": [
      "/var/folders/v5/853tm03d4ds4l0z_4qjrndh40000gn/T/ipykernel_74596/3250664552.py:1: DtypeWarning: Columns (22,23,24,26,27,28,29,30,31,32,33,38,43,44,46,77,78,79,80) have mixed types. Specify dtype option on import or set low_memory=False.\n",
      "  df = pd.read_csv(\"df_trimmed.csv\")\n"
     ]
    }
   ],
   "source": [
    "df = pd.read_csv(\"df_trimmed.csv\")"
   ]
  },
  {
   "cell_type": "code",
   "execution_count": null,
   "id": "5b131137",
   "metadata": {},
   "outputs": [],
   "source": [
    "df.shape"
   ]
  },
  {
   "cell_type": "code",
   "execution_count": null,
   "id": "51edce92",
   "metadata": {},
   "outputs": [],
   "source": [
    "df.info()"
   ]
  },
  {
   "cell_type": "code",
   "execution_count": null,
   "id": "ebd0da1b",
   "metadata": {},
   "outputs": [],
   "source": [
    "df.head()"
   ]
  },
  {
   "cell_type": "code",
   "execution_count": null,
   "id": "dbb500e5",
   "metadata": {},
   "outputs": [],
   "source": []
  }
 ],
 "metadata": {
  "kernelspec": {
   "display_name": ".venv",
   "language": "python",
   "name": "python3"
  },
  "language_info": {
   "codemirror_mode": {
    "name": "ipython",
    "version": 3
   },
   "file_extension": ".py",
   "mimetype": "text/x-python",
   "name": "python",
   "nbconvert_exporter": "python",
   "pygments_lexer": "ipython3",
   "version": "3.13.7"
  }
 },
 "nbformat": 4,
 "nbformat_minor": 5
}
