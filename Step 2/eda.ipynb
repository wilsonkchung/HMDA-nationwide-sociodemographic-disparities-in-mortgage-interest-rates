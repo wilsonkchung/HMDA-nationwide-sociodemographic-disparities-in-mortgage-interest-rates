{
 "cells": [
  {
   "cell_type": "markdown",
   "id": "34e1fc0a",
   "metadata": {},
   "source": [
    "# README\n",
    "\n",
    "* Please unzip file \"df_trimmed.csv.zip\" first before reading the file using pandas!\n",
    "\n",
    "* Reason: the file size is 5.58 GB, it cannot be pushed to GitHub Repository even with GitHub Large File Storage (limit 5.0 GB)\n",
    "\n",
    "* Note: 'df_trimmed.csv' is included in .gitignore to prevent the file being pushed in the future."
   ]
  },
  {
   "cell_type": "markdown",
   "id": "e084afca",
   "metadata": {},
   "source": []
  }
 ],
 "metadata": {
  "language_info": {
   "name": "python"
  }
 },
 "nbformat": 4,
 "nbformat_minor": 5
}
